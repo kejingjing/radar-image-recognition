{
 "cells": [
  {
   "cell_type": "code",
   "execution_count": 4,
   "metadata": {
    "collapsed": true
   },
   "outputs": [],
   "source": [
    "import numpy as np\n",
    "import pandas as pd\n",
    "import torch\n",
    "from torch.utils.data import DataLoader\n",
    "from tqdm import tqdm_notebook\n",
    "import os.path\n",
    "from utils import ScalarEncoder, make_dataset, load_model, infer_ensemble, all_subdirs_of\n",
    "from matplotlib import pyplot as plt"
   ]
  },
  {
   "cell_type": "code",
   "execution_count": 2,
   "metadata": {},
   "outputs": [
    {
     "name": "stdout",
     "output_type": "stream",
     "text": [
      "loading model from: ./logs/2017-11-10-16-50-36\n"
     ]
    },
    {
     "name": "stdout",
     "output_type": "stream",
     "text": [
      "Loading training set\n"
     ]
    }
   ],
   "source": [
    "# loading model from the latest trained model\n",
    "all_subdirs = all_subdirs_of(\"./logs\")\n",
    "latest_subdir = max(all_subdirs, key=os.path.getmtime)\n",
    "print(\"loading model from: \" + latest_subdir)\n",
    "networks = load_model(os.path.join(latest_subdir, \"models\"))\n",
    "# networks = load_model(os.path.join(\"logs/2017-11-09-15-56-29\", \"models\"))\n",
    "# scalar encoder for incident angles\n",
    "encoder = ScalarEncoder(100, 30, 45)\n",
    "\n",
    "print(\"Loading training set\")\n",
    "train_df = pd.read_json(\"data/train.json\")\n",
    "train_df[\"band_1\"] = train_df[\"band_1\"].apply(lambda x: np.array(x).reshape(75, 75))\n",
    "train_df[\"band_2\"] = train_df[\"band_2\"].apply(lambda x: np.array(x).reshape(75, 75))\n",
    "train_df[\"inc_angle\"] = pd.to_numeric(train_df[\"inc_angle\"], errors=\"coerce\")\n",
    "train_dataset = make_dataset(train_df, encoder, transforms=None, test=False)\n",
    "del train_df"
   ]
  },
  {
   "cell_type": "code",
   "execution_count": 5,
   "metadata": {},
   "outputs": [
    {
     "name": "stdout",
     "output_type": "stream",
     "text": [
      "Running train data\n"
     ]
    },
    {
     "data": {
      "text/plain": [
       "A Jupyter Widget"
      ]
     },
     "execution_count": 0,
     "metadata": {},
     "output_type": "execute_result"
    },
    {
     "name": "stdout",
     "output_type": "stream",
     "text": [
      "\n"
     ]
    }
   ],
   "source": [
    "print(\"Running train data\")\n",
    "train_loader = DataLoader(train_dataset, batch_size=1, shuffle=False)\n",
    "train_pred_mean = torch.FloatTensor()\n",
    "train_pred_std = torch.FloatTensor()\n",
    "\n",
    "for data_target in tqdm_notebook(train_loader, total=len(train_loader)):\n",
    "    out_mean, out_std = infer_ensemble(data_target, networks, trial_per_sample=10)\n",
    "    train_pred_mean = torch.cat((train_pred_mean, torch.FloatTensor([out_mean])), 0)\n",
    "    train_pred_std = torch.cat((train_pred_std, torch.FloatTensor([out_std])), 0)\n",
    "    val_target_var = data_target[0][1].float().cuda()\n",
    "\n",
    "train_pred_mean.squeeze_()\n",
    "train_pred_std.squeeze_()"
   ]
  },
  {
   "cell_type": "code",
   "execution_count": 6,
   "metadata": {},
   "outputs": [],
   "source": [
    "# Adjust the mean according to the std\n",
    "prob_out_adjusted = (1 - 2 * train_pred_std) * (train_pred_mean - 0.5) + 0.5\n",
    "prob_out_adjusted = torch.min(torch.max(train_pred_mean, torch.FloatTensor([0.01])), torch.FloatTensor([0.99]))"
   ]
  },
  {
   "cell_type": "code",
   "execution_count": 29,
   "metadata": {},
   "outputs": [
    {
     "name": "stdout",
     "output_type": "stream",
     "text": [
      "[   0.    0.    0.    0.    0.    1.    0.    0.    0.    1.    0.    2.\n    3.    2.    2.    3.    4.    0.    4.    8.    5.    7.    9.   11.\n   27.   28.   30.   55.   91.  460.]\n"
     ]
    },
    {
     "data": {
      "image/png": "[encoded data removed]",
      "text/plain": [
       "<matplotlib.figure.Figure at 0x7ff657fbf940>"
      ]
     },
     "metadata": {},
     "output_type": "display_data"
    }
   ],
   "source": [
    "targets = train_dataset.datasets[0].targets[0].float()\n",
    "non_zero_idx = targets.nonzero().squeeze_()\n",
    "lift_data = torch.mul(train_pred_mean[non_zero_idx], targets[non_zero_idx])\n",
    "list_hist = torch.histc(lift_data, bins=30, min=0, max=1, out=None).cpu().numpy()\n",
    "print(list_hist)\n",
    "plt.figure(figsize=(8, 10))\n",
    "plt.bar(np.arange(0, 30), list_hist)\n",
    "plt.show()"
   ]
  },
  {
   "cell_type": "code",
   "execution_count": null,
   "metadata": {},
   "outputs": [],
   "source": [
    ""
   ]
  }
 ],
 "metadata": {
  "kernelspec": {
   "display_name": "Python 2",
   "language": "python",
   "name": "python2"
  },
  "language_info": {
   "codemirror_mode": {
    "name": "ipython",
    "version": 2.0
   },
   "file_extension": ".py",
   "mimetype": "text/x-python",
   "name": "python",
   "nbconvert_exporter": "python",
   "pygments_lexer": "ipython2",
   "version": "2.7.6"
  }
 },
 "nbformat": 4,
 "nbformat_minor": 0
}